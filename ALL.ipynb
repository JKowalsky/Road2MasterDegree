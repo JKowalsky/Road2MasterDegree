{
  "nbformat": 4,
  "nbformat_minor": 0,
  "metadata": {
    "colab": {
      "provenance": [],
      "authorship_tag": "ABX9TyOpko09USe6nI3L2lsCtRGq",
      "include_colab_link": true
    },
    "kernelspec": {
      "name": "python3",
      "display_name": "Python 3"
    },
    "language_info": {
      "name": "python"
    }
  },
  "cells": [
    {
      "cell_type": "markdown",
      "metadata": {
        "id": "view-in-github",
        "colab_type": "text"
      },
      "source": [
        "<a href=\"https://colab.research.google.com/github/JKowalsky/Road2MasterDegree/blob/main/ALL.ipynb\" target=\"_parent\"><img src=\"https://colab.research.google.com/assets/colab-badge.svg\" alt=\"Open In Colab\"/></a>"
      ]
    },
    {
      "cell_type": "code",
      "execution_count": 1,
      "metadata": {
        "colab": {
          "base_uri": "https://localhost:8080/"
        },
        "id": "OQNN2y4QqG4c",
        "outputId": "560bc700-9938-4861-afcd-fc921b546076"
      },
      "outputs": [
        {
          "output_type": "stream",
          "name": "stdout",
          "text": [
            "Mounted at /gdrive\n"
          ]
        }
      ],
      "source": [
        "from google.colab import drive\n",
        "drive.mount('/gdrive')\n",
        "\n",
        "!cp -r \"/gdrive/MyDrive/Colab Notebooks/Master/datasets/prepared/imdb.csv\" \"/content\"\n",
        "# TODO: Add more datasets"
      ]
    },
    {
      "cell_type": "code",
      "source": [
        "import glob\n",
        "\n",
        "!rm -rf /content/sample_data/\n",
        "\n",
        "datasets_paths = glob.glob(\"/content/*\")"
      ],
      "metadata": {
        "colab": {
          "base_uri": "https://localhost:8080/"
        },
        "id": "YNNB7qh1tIwP",
        "outputId": "071419a7-c001-4662-d2e7-cafff97997a4"
      },
      "execution_count": 3,
      "outputs": [
        {
          "output_type": "stream",
          "name": "stdout",
          "text": [
            "['/content/imdb.csv']\n"
          ]
        }
      ]
    },
    {
      "cell_type": "code",
      "source": [
        "import pandas\n",
        "pandas.set_option('display.width', 180)\n",
        "import sklearn.feature_extraction.text\n",
        "\n",
        "def tfidf_dataframe_converter(train_dataframe, test_dataframe):\n",
        "  vectorizer = sklearn.feature_extraction.text.TfidfVectorizer(max_features=2000, stop_words=\"english\")\n",
        "\n",
        "  tfidf_matrix = vectorizer.fit_transform(train_dataframe[\"Content\"])\n",
        "  tfidf_matrix = tfidf_matrix.toarray()\n",
        "  train_vectors_dataframe = pandas.DataFrame(tfidf_matrix, columns=vectorizer.get_feature_names_out())\n",
        "  train_vectors_with_class_dataframe = train_vectors_dataframe.assign(Class=train_dataframe[\"Class\"].tolist())\n",
        "\n",
        "  tfidf_matrix = vectorizer.transform(test_dataframe[\"Content\"])\n",
        "  tfidf_matrix = tfidf_matrix.toarray()\n",
        "  test_vectors_dataframe = pandas.DataFrame(tfidf_matrix, columns=vectorizer.get_feature_names_out())\n",
        "  test_vectors_with_class_dataframe = test_vectors_dataframe.assign(Class=test_dataframe[\"Class\"].tolist())\n",
        "\n",
        "  return train_vectors_with_class_dataframe, test_vectors_with_class_dataframe\n"
      ],
      "metadata": {
        "id": "lnwHQcAkvzjZ"
      },
      "execution_count": 35,
      "outputs": []
    },
    {
      "cell_type": "code",
      "source": [
        "import pandas\n",
        "pandas.set_option('display.width', 180)\n",
        "\n",
        "import sklearn.model_selection\n",
        "\n",
        "folds = 5\n",
        "\n",
        "for dataset_path in datasets_paths:\n",
        "  print(f\"Dataset: {dataset_path.split('/')[-1]}\")\n",
        "  dataset_dataframe = pandas.read_csv(dataset_path)\n",
        "  stratified_kfold = sklearn.model_selection.StratifiedKFold(n_splits=folds, shuffle=True)\n",
        "  for train_subset_indexes, test_subset_indexes in stratified_kfold.split(dataset_dataframe[\"Content\"], dataset_dataframe[\"Class\"]):\n",
        "    train_subset_dataframe = dataset_dataframe.iloc[train_subset_indexes]\n",
        "    test_subset_dataframe = dataset_dataframe.iloc[test_subset_indexes]\n",
        "    converted_train_subset_dataframe, converted_test_subset_dataframe = tfidf_dataframe_converter(train_subset_dataframe, test_subset_dataframe)\n",
        "\n"
      ],
      "metadata": {
        "colab": {
          "base_uri": "https://localhost:8080/"
        },
        "id": "fRVpMqkSt9Wb",
        "outputId": "50c5bd09-c2e7-470a-e096-2937d3db9f1a"
      },
      "execution_count": 36,
      "outputs": [
        {
          "output_type": "stream",
          "name": "stdout",
          "text": [
            "Dataset: imdb.csv\n"
          ]
        }
      ]
    }
  ]
}